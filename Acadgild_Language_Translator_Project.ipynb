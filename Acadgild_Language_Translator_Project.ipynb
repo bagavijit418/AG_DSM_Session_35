{
  "nbformat": 4,
  "nbformat_minor": 0,
  "metadata": {
    "colab": {
      "name": "Acadgild_Language_Translator_Project.ipynb",
      "version": "0.3.2",
      "provenance": [],
      "collapsed_sections": [],
      "toc_visible": true
    },
    "kernelspec": {
      "name": "python3",
      "display_name": "Python 3"
    },
    "accelerator": "GPU"
  },
  "cells": [
    {
      "metadata": {
        "id": "l1IQmqp8VJs-",
        "colab_type": "text"
      },
      "cell_type": "markdown",
      "source": [
        "## Guide Lines"
      ]
    },
    {
      "metadata": {
        "id": "YSM3f0iy5Hhv",
        "colab_type": "text"
      },
      "cell_type": "markdown",
      "source": [
        "**1**) Turn the sentences into 3 Numpy arrays, encoder_input_data, decoder_input_data, decoder_target_data:\n",
        "\n",
        "encoder_input_data is a 3D array of shape (num_pairs, max_english_sentence_length, num_english_characters) containing a one-hot vectorization of the English sentences\n",
        "decoder_input_data is a 3D array of shape (num_pairs, max_french_sentence_length, num_french_characters) containing a one-hot vectorization of the French sentences\n",
        "decoder_target_data is the same as decoder_input_data but offset by one timestep. decoder_target_data[:, t, :] will be the same as decoder_input_data[:, t + 1, :]"
      ]
    },
    {
      "metadata": {
        "id": "84lpuRf05LJX",
        "colab_type": "text"
      },
      "cell_type": "markdown",
      "source": [
        "**2**) Train a basic LSTM-based Seq2Seq model to predict decoder_target_data given encoder_input_data and decoder_input_data"
      ]
    },
    {
      "metadata": {
        "id": "DVH0Ylkb7K5P",
        "colab_type": "text"
      },
      "cell_type": "markdown",
      "source": [
        "**3**) Decode some sentences to check that the model is working (i.e. turn samples from encoder_input_data into corresponding samples from decoder_target_data)."
      ]
    },
    {
      "metadata": {
        "id": "PDOvkgokVbVk",
        "colab_type": "text"
      },
      "cell_type": "markdown",
      "source": [
        "## Import Libraries "
      ]
    },
    {
      "metadata": {
        "id": "TqKx_Njn8Cye",
        "colab_type": "code",
        "colab": {}
      },
      "cell_type": "code",
      "source": [
        "from keras.models import Model\n",
        "from keras.layers import Input, LSTM, Dense\n",
        "import numpy as np"
      ],
      "execution_count": 0,
      "outputs": []
    },
    {
      "metadata": {
        "id": "82O-0WYqcjsE",
        "colab_type": "text"
      },
      "cell_type": "markdown",
      "source": [
        "## Define and Initialize Pramas"
      ]
    },
    {
      "metadata": {
        "id": "MelgIsal8k9q",
        "colab_type": "code",
        "colab": {}
      },
      "cell_type": "code",
      "source": [
        "batch_size = 200  # Batch size for training.\n",
        "epochs = 50  # Number of epochs to train for.\n",
        "latent_dim = 256  # Latent dimensionality of the encoding space.\n",
        "num_samples = 10000  # Number of samples to train on.\n",
        "# Path to the data txt file on disk.\n",
        "data_path = 'fra.txt'\n"
      ],
      "execution_count": 0,
      "outputs": []
    },
    {
      "metadata": {
        "id": "O36XG3wc8w5T",
        "colab_type": "code",
        "colab": {}
      },
      "cell_type": "code",
      "source": [
        "# Vectorize the data.\n",
        "input_texts = []\n",
        "target_texts = []\n",
        "input_characters = set()\n",
        "target_characters = set()"
      ],
      "execution_count": 0,
      "outputs": []
    },
    {
      "metadata": {
        "id": "jjBPEkHLcv3g",
        "colab_type": "text"
      },
      "cell_type": "markdown",
      "source": [
        "## Read Input and Preprocess Data"
      ]
    },
    {
      "metadata": {
        "id": "XNGKbSYrc04E",
        "colab_type": "code",
        "colab": {}
      },
      "cell_type": "code",
      "source": [
        "#read the input file \n",
        "with open(data_path, 'r', encoding='utf-8') as f:\n",
        "    lines = f.read().split('\\n')\n",
        "for line in lines[: min(num_samples, len(lines) - 1)]:\n",
        "    input_text, target_text = line.split('\\t')\n",
        "    # We use \"tab\" as the \"start sequence\" character\n",
        "    # for the targets, and \"\\n\" as \"end sequence\" character.\n",
        "    target_text = '\\t' + target_text + '\\n'\n",
        "    input_texts.append(input_text)\n",
        "    target_texts.append(target_text)\n",
        "    for char in input_text:\n",
        "        if char not in input_characters:\n",
        "            input_characters.add(char)\n",
        "    for char in target_text:\n",
        "        if char not in target_characters:\n",
        "            target_characters.add(char)"
      ],
      "execution_count": 0,
      "outputs": []
    },
    {
      "metadata": {
        "id": "NXIyg6Gr-VPU",
        "colab_type": "code",
        "outputId": "1c9974df-f444-4744-b837-de7b55614268",
        "colab": {
          "base_uri": "https://localhost:8080/",
          "height": 187
        }
      },
      "cell_type": "code",
      "source": [
        "input_texts[:10]"
      ],
      "execution_count": 6,
      "outputs": [
        {
          "output_type": "execute_result",
          "data": {
            "text/plain": [
              "['Go.',\n",
              " 'Hi.',\n",
              " 'Run!',\n",
              " 'Run!',\n",
              " 'Wow!',\n",
              " 'Fire!',\n",
              " 'Help!',\n",
              " 'Jump.',\n",
              " 'Stop!',\n",
              " 'Stop!']"
            ]
          },
          "metadata": {
            "tags": []
          },
          "execution_count": 6
        }
      ]
    },
    {
      "metadata": {
        "id": "q-n_UDFf-g_f",
        "colab_type": "code",
        "outputId": "a4d75003-3bf9-4256-ee3b-44fec33b69b7",
        "colab": {
          "base_uri": "https://localhost:8080/",
          "height": 187
        }
      },
      "cell_type": "code",
      "source": [
        "target_texts[:10]"
      ],
      "execution_count": 7,
      "outputs": [
        {
          "output_type": "execute_result",
          "data": {
            "text/plain": [
              "['\\tVa !\\n',\n",
              " '\\tSalut !\\n',\n",
              " '\\tCours\\u202f!\\n',\n",
              " '\\tCourez\\u202f!\\n',\n",
              " '\\tÇa alors\\u202f!\\n',\n",
              " '\\tAu feu !\\n',\n",
              " \"\\tÀ l'aide\\u202f!\\n\",\n",
              " '\\tSaute.\\n',\n",
              " '\\tÇa suffit\\u202f!\\n',\n",
              " '\\tStop\\u202f!\\n']"
            ]
          },
          "metadata": {
            "tags": []
          },
          "execution_count": 7
        }
      ]
    },
    {
      "metadata": {
        "id": "xrEUdeJs91Me",
        "colab_type": "code",
        "outputId": "5d33bcad-204d-47f4-cb76-de46cd8aec71",
        "colab": {
          "base_uri": "https://localhost:8080/",
          "height": 34
        }
      },
      "cell_type": "code",
      "source": [
        "len(input_characters)"
      ],
      "execution_count": 8,
      "outputs": [
        {
          "output_type": "execute_result",
          "data": {
            "text/plain": [
              "69"
            ]
          },
          "metadata": {
            "tags": []
          },
          "execution_count": 8
        }
      ]
    },
    {
      "metadata": {
        "id": "On5vscNL-KmW",
        "colab_type": "code",
        "outputId": "9b512f34-cdf7-4eb3-d0b8-e8da669bb2b2",
        "colab": {
          "base_uri": "https://localhost:8080/",
          "height": 34
        }
      },
      "cell_type": "code",
      "source": [
        "len(target_characters)"
      ],
      "execution_count": 9,
      "outputs": [
        {
          "output_type": "execute_result",
          "data": {
            "text/plain": [
              "93"
            ]
          },
          "metadata": {
            "tags": []
          },
          "execution_count": 9
        }
      ]
    },
    {
      "metadata": {
        "id": "U_eIAGKa-tbx",
        "colab_type": "code",
        "colab": {}
      },
      "cell_type": "code",
      "source": [
        "# set the shape of encoder input data and decoder input data\n",
        "input_characters = sorted(list(input_characters))\n",
        "target_characters = sorted(list(target_characters))\n",
        "num_encoder_tokens = len(input_characters)\n",
        "num_decoder_tokens = len(target_characters)\n",
        "max_encoder_seq_length = max([len(txt) for txt in input_texts])\n",
        "max_decoder_seq_length = max([len(txt) for txt in target_texts])"
      ],
      "execution_count": 0,
      "outputs": []
    },
    {
      "metadata": {
        "id": "GIAUKX79_AJL",
        "colab_type": "code",
        "outputId": "cad5af06-e39b-459e-d96d-3c101cda41b8",
        "colab": {
          "base_uri": "https://localhost:8080/",
          "height": 102
        }
      },
      "cell_type": "code",
      "source": [
        "print('Number of samples:', len(input_texts))\n",
        "print('Number of unique input tokens:', num_encoder_tokens)\n",
        "print('Number of unique output tokens:', num_decoder_tokens)\n",
        "print('Max sequence length for inputs:', max_encoder_seq_length)\n",
        "print('Max sequence length for outputs:', max_decoder_seq_length)"
      ],
      "execution_count": 11,
      "outputs": [
        {
          "output_type": "stream",
          "text": [
            "Number of samples: 10000\n",
            "Number of unique input tokens: 69\n",
            "Number of unique output tokens: 93\n",
            "Max sequence length for inputs: 16\n",
            "Max sequence length for outputs: 59\n"
          ],
          "name": "stdout"
        }
      ]
    },
    {
      "metadata": {
        "id": "NehC-2HP_VMP",
        "colab_type": "code",
        "colab": {}
      },
      "cell_type": "code",
      "source": [
        "input_token_index = dict([(char, i) for i, char in enumerate(input_characters)])\n",
        "target_token_index = dict([(char, i) for i, char in enumerate(target_characters)])\n"
      ],
      "execution_count": 0,
      "outputs": []
    },
    {
      "metadata": {
        "id": "HHaJvy16_us-",
        "colab_type": "code",
        "outputId": "f5522ed1-0c70-482e-efb5-c331cf08c948",
        "colab": {
          "base_uri": "https://localhost:8080/",
          "height": 71
        }
      },
      "cell_type": "code",
      "source": [
        "print(\"input_token_index : \",input_token_index)\n",
        "print(\"target_token_index : \",target_token_index)"
      ],
      "execution_count": 13,
      "outputs": [
        {
          "output_type": "stream",
          "text": [
            "input_token_index :  {' ': 0, '!': 1, '$': 2, '%': 3, '&': 4, \"'\": 5, ',': 6, '-': 7, '.': 8, '0': 9, '1': 10, '3': 11, '5': 12, '6': 13, '7': 14, '8': 15, '9': 16, ':': 17, '?': 18, 'A': 19, 'B': 20, 'C': 21, 'D': 22, 'E': 23, 'F': 24, 'G': 25, 'H': 26, 'I': 27, 'J': 28, 'K': 29, 'L': 30, 'M': 31, 'N': 32, 'O': 33, 'P': 34, 'Q': 35, 'R': 36, 'S': 37, 'T': 38, 'U': 39, 'V': 40, 'W': 41, 'Y': 42, 'a': 43, 'b': 44, 'c': 45, 'd': 46, 'e': 47, 'f': 48, 'g': 49, 'h': 50, 'i': 51, 'j': 52, 'k': 53, 'l': 54, 'm': 55, 'n': 56, 'o': 57, 'p': 58, 'q': 59, 'r': 60, 's': 61, 't': 62, 'u': 63, 'v': 64, 'w': 65, 'x': 66, 'y': 67, 'z': 68}\n",
            "target_token_index :  {'\\t': 0, '\\n': 1, ' ': 2, '!': 3, '$': 4, '%': 5, '&': 6, \"'\": 7, '(': 8, ')': 9, ',': 10, '-': 11, '.': 12, '0': 13, '1': 14, '3': 15, '5': 16, '8': 17, '9': 18, ':': 19, '?': 20, 'A': 21, 'B': 22, 'C': 23, 'D': 24, 'E': 25, 'F': 26, 'G': 27, 'H': 28, 'I': 29, 'J': 30, 'K': 31, 'L': 32, 'M': 33, 'N': 34, 'O': 35, 'P': 36, 'Q': 37, 'R': 38, 'S': 39, 'T': 40, 'U': 41, 'V': 42, 'Y': 43, 'a': 44, 'b': 45, 'c': 46, 'd': 47, 'e': 48, 'f': 49, 'g': 50, 'h': 51, 'i': 52, 'j': 53, 'k': 54, 'l': 55, 'm': 56, 'n': 57, 'o': 58, 'p': 59, 'q': 60, 'r': 61, 's': 62, 't': 63, 'u': 64, 'v': 65, 'w': 66, 'x': 67, 'y': 68, 'z': 69, '\\xa0': 70, '«': 71, '»': 72, 'À': 73, 'Ç': 74, 'É': 75, 'Ê': 76, 'à': 77, 'â': 78, 'ç': 79, 'è': 80, 'é': 81, 'ê': 82, 'ë': 83, 'î': 84, 'ï': 85, 'ô': 86, 'ù': 87, 'û': 88, 'œ': 89, '\\u2009': 90, '’': 91, '\\u202f': 92}\n"
          ],
          "name": "stdout"
        }
      ]
    },
    {
      "metadata": {
        "id": "jhKA4JESAJzf",
        "colab_type": "code",
        "colab": {}
      },
      "cell_type": "code",
      "source": [
        "#initialize input encoder decoder and target decoder vectors\n",
        "encoder_input_data = np.zeros(\n",
        "    (len(input_texts), max_encoder_seq_length, num_encoder_tokens),\n",
        "    dtype='float32')\n",
        "#\n",
        "decoder_input_data = np.zeros(\n",
        "    (len(input_texts), max_decoder_seq_length, num_decoder_tokens),\n",
        "    dtype='float32')\n",
        "#\n",
        "decoder_target_data = np.zeros(\n",
        "    (len(input_texts), max_decoder_seq_length, num_decoder_tokens),\n",
        "    dtype='float32')"
      ],
      "execution_count": 0,
      "outputs": []
    },
    {
      "metadata": {
        "id": "Cb6AXXimAnS3",
        "colab_type": "code",
        "outputId": "892d8f44-af38-458d-c20b-acb950a6c153",
        "colab": {
          "base_uri": "https://localhost:8080/",
          "height": 34
        }
      },
      "cell_type": "code",
      "source": [
        "encoder_input_data.shape"
      ],
      "execution_count": 15,
      "outputs": [
        {
          "output_type": "execute_result",
          "data": {
            "text/plain": [
              "(10000, 16, 69)"
            ]
          },
          "metadata": {
            "tags": []
          },
          "execution_count": 15
        }
      ]
    },
    {
      "metadata": {
        "id": "pisbZYZRAu9_",
        "colab_type": "code",
        "outputId": "9bedf07c-d211-4524-c977-43defdc09cf4",
        "colab": {
          "base_uri": "https://localhost:8080/",
          "height": 34
        }
      },
      "cell_type": "code",
      "source": [
        "decoder_input_data.shape"
      ],
      "execution_count": 16,
      "outputs": [
        {
          "output_type": "execute_result",
          "data": {
            "text/plain": [
              "(10000, 59, 93)"
            ]
          },
          "metadata": {
            "tags": []
          },
          "execution_count": 16
        }
      ]
    },
    {
      "metadata": {
        "id": "Hz9U7JRAA7KZ",
        "colab_type": "code",
        "outputId": "c55b5c50-c33e-4aaa-b590-1edfaa027e84",
        "colab": {
          "base_uri": "https://localhost:8080/",
          "height": 34
        }
      },
      "cell_type": "code",
      "source": [
        "decoder_target_data.shape"
      ],
      "execution_count": 17,
      "outputs": [
        {
          "output_type": "execute_result",
          "data": {
            "text/plain": [
              "(10000, 59, 93)"
            ]
          },
          "metadata": {
            "tags": []
          },
          "execution_count": 17
        }
      ]
    },
    {
      "metadata": {
        "id": "-Et-UQrrBXJI",
        "colab_type": "code",
        "colab": {}
      },
      "cell_type": "code",
      "source": [
        "#implement one hot vectorization of english and french sentence \n",
        "for i, (input_text, target_text) in enumerate(zip(input_texts, target_texts)):\n",
        "    for t, char in enumerate(input_text):\n",
        "        encoder_input_data[i, t, input_token_index[char]] = 1.\n",
        "    for t, char in enumerate(target_text):\n",
        "        # decoder_target_data is ahead of decoder_input_data by one timestep\n",
        "        decoder_input_data[i, t, target_token_index[char]] = 1.\n",
        "        if t > 0:\n",
        "            # decoder_target_data will be ahead by one timestep\n",
        "            # and will not include the start character.\n",
        "            decoder_target_data[i, t - 1, target_token_index[char]] = 1."
      ],
      "execution_count": 0,
      "outputs": []
    },
    {
      "metadata": {
        "id": "JdYX7a_YCump",
        "colab_type": "code",
        "outputId": "22eb017a-1b13-4df9-9baf-3172a604dd55",
        "colab": {
          "base_uri": "https://localhost:8080/",
          "height": 850
        }
      },
      "cell_type": "code",
      "source": [
        "encoder_input_data"
      ],
      "execution_count": 19,
      "outputs": [
        {
          "output_type": "execute_result",
          "data": {
            "text/plain": [
              "array([[[0., 0., 0., ..., 0., 0., 0.],\n",
              "        [0., 0., 0., ..., 0., 0., 0.],\n",
              "        [0., 0., 0., ..., 0., 0., 0.],\n",
              "        ...,\n",
              "        [0., 0., 0., ..., 0., 0., 0.],\n",
              "        [0., 0., 0., ..., 0., 0., 0.],\n",
              "        [0., 0., 0., ..., 0., 0., 0.]],\n",
              "\n",
              "       [[0., 0., 0., ..., 0., 0., 0.],\n",
              "        [0., 0., 0., ..., 0., 0., 0.],\n",
              "        [0., 0., 0., ..., 0., 0., 0.],\n",
              "        ...,\n",
              "        [0., 0., 0., ..., 0., 0., 0.],\n",
              "        [0., 0., 0., ..., 0., 0., 0.],\n",
              "        [0., 0., 0., ..., 0., 0., 0.]],\n",
              "\n",
              "       [[0., 0., 0., ..., 0., 0., 0.],\n",
              "        [0., 0., 0., ..., 0., 0., 0.],\n",
              "        [0., 0., 0., ..., 0., 0., 0.],\n",
              "        ...,\n",
              "        [0., 0., 0., ..., 0., 0., 0.],\n",
              "        [0., 0., 0., ..., 0., 0., 0.],\n",
              "        [0., 0., 0., ..., 0., 0., 0.]],\n",
              "\n",
              "       ...,\n",
              "\n",
              "       [[0., 0., 0., ..., 0., 0., 0.],\n",
              "        [0., 0., 0., ..., 0., 0., 0.],\n",
              "        [0., 0., 0., ..., 0., 0., 0.],\n",
              "        ...,\n",
              "        [0., 0., 0., ..., 0., 0., 0.],\n",
              "        [0., 0., 0., ..., 0., 0., 0.],\n",
              "        [0., 0., 0., ..., 0., 0., 0.]],\n",
              "\n",
              "       [[0., 0., 0., ..., 0., 0., 0.],\n",
              "        [0., 0., 0., ..., 0., 0., 0.],\n",
              "        [0., 0., 0., ..., 0., 0., 0.],\n",
              "        ...,\n",
              "        [0., 0., 0., ..., 0., 0., 0.],\n",
              "        [0., 0., 0., ..., 0., 0., 0.],\n",
              "        [0., 0., 0., ..., 0., 0., 0.]],\n",
              "\n",
              "       [[0., 0., 0., ..., 0., 0., 0.],\n",
              "        [0., 0., 0., ..., 0., 0., 0.],\n",
              "        [0., 0., 0., ..., 0., 0., 0.],\n",
              "        ...,\n",
              "        [0., 0., 0., ..., 0., 0., 0.],\n",
              "        [0., 0., 0., ..., 0., 0., 0.],\n",
              "        [0., 0., 0., ..., 0., 0., 0.]]], dtype=float32)"
            ]
          },
          "metadata": {
            "tags": []
          },
          "execution_count": 19
        }
      ]
    },
    {
      "metadata": {
        "id": "0ktJBYDxCwro",
        "colab_type": "code",
        "outputId": "a55ae2fe-95fd-4f51-bf6a-885cb7ec25dd",
        "colab": {
          "base_uri": "https://localhost:8080/",
          "height": 850
        }
      },
      "cell_type": "code",
      "source": [
        "decoder_input_data"
      ],
      "execution_count": 20,
      "outputs": [
        {
          "output_type": "execute_result",
          "data": {
            "text/plain": [
              "array([[[1., 0., 0., ..., 0., 0., 0.],\n",
              "        [0., 0., 0., ..., 0., 0., 0.],\n",
              "        [0., 0., 0., ..., 0., 0., 0.],\n",
              "        ...,\n",
              "        [0., 0., 0., ..., 0., 0., 0.],\n",
              "        [0., 0., 0., ..., 0., 0., 0.],\n",
              "        [0., 0., 0., ..., 0., 0., 0.]],\n",
              "\n",
              "       [[1., 0., 0., ..., 0., 0., 0.],\n",
              "        [0., 0., 0., ..., 0., 0., 0.],\n",
              "        [0., 0., 0., ..., 0., 0., 0.],\n",
              "        ...,\n",
              "        [0., 0., 0., ..., 0., 0., 0.],\n",
              "        [0., 0., 0., ..., 0., 0., 0.],\n",
              "        [0., 0., 0., ..., 0., 0., 0.]],\n",
              "\n",
              "       [[1., 0., 0., ..., 0., 0., 0.],\n",
              "        [0., 0., 0., ..., 0., 0., 0.],\n",
              "        [0., 0., 0., ..., 0., 0., 0.],\n",
              "        ...,\n",
              "        [0., 0., 0., ..., 0., 0., 0.],\n",
              "        [0., 0., 0., ..., 0., 0., 0.],\n",
              "        [0., 0., 0., ..., 0., 0., 0.]],\n",
              "\n",
              "       ...,\n",
              "\n",
              "       [[1., 0., 0., ..., 0., 0., 0.],\n",
              "        [0., 0., 0., ..., 0., 0., 0.],\n",
              "        [0., 0., 0., ..., 0., 0., 0.],\n",
              "        ...,\n",
              "        [0., 0., 0., ..., 0., 0., 0.],\n",
              "        [0., 0., 0., ..., 0., 0., 0.],\n",
              "        [0., 0., 0., ..., 0., 0., 0.]],\n",
              "\n",
              "       [[1., 0., 0., ..., 0., 0., 0.],\n",
              "        [0., 0., 0., ..., 0., 0., 0.],\n",
              "        [0., 0., 0., ..., 0., 0., 0.],\n",
              "        ...,\n",
              "        [0., 0., 0., ..., 0., 0., 0.],\n",
              "        [0., 0., 0., ..., 0., 0., 0.],\n",
              "        [0., 0., 0., ..., 0., 0., 0.]],\n",
              "\n",
              "       [[1., 0., 0., ..., 0., 0., 0.],\n",
              "        [0., 0., 0., ..., 0., 0., 0.],\n",
              "        [0., 0., 0., ..., 0., 0., 0.],\n",
              "        ...,\n",
              "        [0., 0., 0., ..., 0., 0., 0.],\n",
              "        [0., 0., 0., ..., 0., 0., 0.],\n",
              "        [0., 0., 0., ..., 0., 0., 0.]]], dtype=float32)"
            ]
          },
          "metadata": {
            "tags": []
          },
          "execution_count": 20
        }
      ]
    },
    {
      "metadata": {
        "id": "Smawf2EwCqzL",
        "colab_type": "code",
        "outputId": "fc31b310-5691-4a81-b52f-9752e8d37158",
        "colab": {
          "base_uri": "https://localhost:8080/",
          "height": 850
        }
      },
      "cell_type": "code",
      "source": [
        "decoder_target_data"
      ],
      "execution_count": 21,
      "outputs": [
        {
          "output_type": "execute_result",
          "data": {
            "text/plain": [
              "array([[[0., 0., 0., ..., 0., 0., 0.],\n",
              "        [0., 0., 0., ..., 0., 0., 0.],\n",
              "        [0., 0., 1., ..., 0., 0., 0.],\n",
              "        ...,\n",
              "        [0., 0., 0., ..., 0., 0., 0.],\n",
              "        [0., 0., 0., ..., 0., 0., 0.],\n",
              "        [0., 0., 0., ..., 0., 0., 0.]],\n",
              "\n",
              "       [[0., 0., 0., ..., 0., 0., 0.],\n",
              "        [0., 0., 0., ..., 0., 0., 0.],\n",
              "        [0., 0., 0., ..., 0., 0., 0.],\n",
              "        ...,\n",
              "        [0., 0., 0., ..., 0., 0., 0.],\n",
              "        [0., 0., 0., ..., 0., 0., 0.],\n",
              "        [0., 0., 0., ..., 0., 0., 0.]],\n",
              "\n",
              "       [[0., 0., 0., ..., 0., 0., 0.],\n",
              "        [0., 0., 0., ..., 0., 0., 0.],\n",
              "        [0., 0., 0., ..., 0., 0., 0.],\n",
              "        ...,\n",
              "        [0., 0., 0., ..., 0., 0., 0.],\n",
              "        [0., 0., 0., ..., 0., 0., 0.],\n",
              "        [0., 0., 0., ..., 0., 0., 0.]],\n",
              "\n",
              "       ...,\n",
              "\n",
              "       [[0., 0., 0., ..., 0., 0., 0.],\n",
              "        [0., 0., 0., ..., 0., 0., 0.],\n",
              "        [0., 0., 1., ..., 0., 0., 0.],\n",
              "        ...,\n",
              "        [0., 0., 0., ..., 0., 0., 0.],\n",
              "        [0., 0., 0., ..., 0., 0., 0.],\n",
              "        [0., 0., 0., ..., 0., 0., 0.]],\n",
              "\n",
              "       [[0., 0., 0., ..., 0., 0., 0.],\n",
              "        [0., 0., 0., ..., 0., 0., 0.],\n",
              "        [0., 0., 1., ..., 0., 0., 0.],\n",
              "        ...,\n",
              "        [0., 0., 0., ..., 0., 0., 0.],\n",
              "        [0., 0., 0., ..., 0., 0., 0.],\n",
              "        [0., 0., 0., ..., 0., 0., 0.]],\n",
              "\n",
              "       [[0., 0., 0., ..., 0., 0., 0.],\n",
              "        [0., 0., 0., ..., 0., 0., 0.],\n",
              "        [0., 0., 0., ..., 0., 0., 0.],\n",
              "        ...,\n",
              "        [0., 0., 0., ..., 0., 0., 0.],\n",
              "        [0., 0., 0., ..., 0., 0., 0.],\n",
              "        [0., 0., 0., ..., 0., 0., 0.]]], dtype=float32)"
            ]
          },
          "metadata": {
            "tags": []
          },
          "execution_count": 21
        }
      ]
    },
    {
      "metadata": {
        "id": "JADtxjqwdU_V",
        "colab_type": "text"
      },
      "cell_type": "markdown",
      "source": [
        "## Defining Model "
      ]
    },
    {
      "metadata": {
        "id": "KW9aUbXcC5aq",
        "colab_type": "code",
        "outputId": "3f186222-a7dc-4f29-dcc1-06769e72e913",
        "colab": {
          "base_uri": "https://localhost:8080/",
          "height": 34
        }
      },
      "cell_type": "code",
      "source": [
        "# Define an input sequence and process it.\n",
        "encoder_inputs = Input(shape=(None, num_encoder_tokens))\n",
        "encoder = LSTM(latent_dim, return_state=True)\n",
        "encoder_outputs, state_h, state_c = encoder(encoder_inputs)\n",
        "print(encoder_outputs)\n",
        "# We discard `encoder_outputs` and only keep the states.\n",
        "encoder_states = [state_h, state_c]"
      ],
      "execution_count": 22,
      "outputs": [
        {
          "output_type": "stream",
          "text": [
            "Tensor(\"lstm_1/TensorArrayReadV3:0\", shape=(?, 256), dtype=float32)\n"
          ],
          "name": "stdout"
        }
      ]
    },
    {
      "metadata": {
        "id": "EagtCpzjDntC",
        "colab_type": "code",
        "colab": {}
      },
      "cell_type": "code",
      "source": [
        "# Set up the decoder, using `encoder_states` as initial state.\n",
        "decoder_inputs = Input(shape=(None, num_decoder_tokens))\n",
        "# We set up our decoder to return full output sequences,\n",
        "# and to return internal states as well. We don't use the\n",
        "# return states in the training model, but we will use them in inference.\n",
        "decoder_lstm = LSTM(latent_dim, return_sequences=True, return_state=True)\n",
        "decoder_outputs, _, _ = decoder_lstm(decoder_inputs,\n",
        "                                     initial_state=encoder_states)\n",
        "#\n",
        "decoder_dense = Dense(num_decoder_tokens, activation='softmax')\n",
        "decoder_outputs = decoder_dense(decoder_outputs)"
      ],
      "execution_count": 0,
      "outputs": []
    },
    {
      "metadata": {
        "id": "ATWD8R6KD06O",
        "colab_type": "code",
        "colab": {}
      },
      "cell_type": "code",
      "source": [
        "# Define the model that will turn\n",
        "# `encoder_input_data` & `decoder_input_data` into `decoder_target_data`\n",
        "model = Model([encoder_inputs, decoder_inputs], decoder_outputs)"
      ],
      "execution_count": 0,
      "outputs": []
    },
    {
      "metadata": {
        "id": "u2jrFRZGD5nW",
        "colab_type": "code",
        "outputId": "776daa0e-921b-4933-b442-2eaae5785bcb",
        "colab": {
          "base_uri": "https://localhost:8080/",
          "height": 340
        }
      },
      "cell_type": "code",
      "source": [
        "model.summary()"
      ],
      "execution_count": 25,
      "outputs": [
        {
          "output_type": "stream",
          "text": [
            "__________________________________________________________________________________________________\n",
            "Layer (type)                    Output Shape         Param #     Connected to                     \n",
            "==================================================================================================\n",
            "input_1 (InputLayer)            (None, None, 69)     0                                            \n",
            "__________________________________________________________________________________________________\n",
            "input_2 (InputLayer)            (None, None, 93)     0                                            \n",
            "__________________________________________________________________________________________________\n",
            "lstm_1 (LSTM)                   [(None, 256), (None, 333824      input_1[0][0]                    \n",
            "__________________________________________________________________________________________________\n",
            "lstm_2 (LSTM)                   [(None, None, 256),  358400      input_2[0][0]                    \n",
            "                                                                 lstm_1[0][1]                     \n",
            "                                                                 lstm_1[0][2]                     \n",
            "__________________________________________________________________________________________________\n",
            "dense_1 (Dense)                 (None, None, 93)     23901       lstm_2[0][0]                     \n",
            "==================================================================================================\n",
            "Total params: 716,125\n",
            "Trainable params: 716,125\n",
            "Non-trainable params: 0\n",
            "__________________________________________________________________________________________________\n"
          ],
          "name": "stdout"
        }
      ]
    },
    {
      "metadata": {
        "id": "4juD2eqUdhfs",
        "colab_type": "text"
      },
      "cell_type": "markdown",
      "source": [
        "## Running Training"
      ]
    },
    {
      "metadata": {
        "id": "izV3QV4uEBEW",
        "colab_type": "code",
        "outputId": "1e911984-7a84-41e6-cf60-ecf858421e35",
        "colab": {
          "base_uri": "https://localhost:8080/",
          "height": 1751
        }
      },
      "cell_type": "code",
      "source": [
        "# Run training\n",
        "model.compile(optimizer='rmsprop', loss='categorical_crossentropy')\n",
        "model.fit([encoder_input_data, decoder_input_data], decoder_target_data,\n",
        "          batch_size=batch_size,\n",
        "          epochs=epochs,\n",
        "          validation_split=0.2)"
      ],
      "execution_count": 27,
      "outputs": [
        {
          "output_type": "stream",
          "text": [
            "Train on 8000 samples, validate on 2000 samples\n",
            "Epoch 1/50\n",
            "8000/8000 [==============================] - 9s 1ms/step - loss: 0.9960 - val_loss: 1.0384\n",
            "Epoch 2/50\n",
            "8000/8000 [==============================] - 7s 880us/step - loss: 0.8990 - val_loss: 1.0015\n",
            "Epoch 3/50\n",
            "8000/8000 [==============================] - 7s 879us/step - loss: 0.8363 - val_loss: 0.9222\n",
            "Epoch 4/50\n",
            "8000/8000 [==============================] - 7s 882us/step - loss: 0.7551 - val_loss: 0.8535\n",
            "Epoch 5/50\n",
            "8000/8000 [==============================] - 7s 884us/step - loss: 0.6934 - val_loss: 0.7819\n",
            "Epoch 6/50\n",
            "8000/8000 [==============================] - 7s 880us/step - loss: 0.6462 - val_loss: 0.7410\n",
            "Epoch 7/50\n",
            "8000/8000 [==============================] - 7s 887us/step - loss: 0.6109 - val_loss: 0.7039\n",
            "Epoch 8/50\n",
            "8000/8000 [==============================] - 7s 887us/step - loss: 0.5860 - val_loss: 0.6731\n",
            "Epoch 9/50\n",
            "8000/8000 [==============================] - 7s 882us/step - loss: 0.5638 - val_loss: 0.6583\n",
            "Epoch 10/50\n",
            "8000/8000 [==============================] - 7s 878us/step - loss: 0.5450 - val_loss: 0.6389\n",
            "Epoch 11/50\n",
            "8000/8000 [==============================] - 7s 882us/step - loss: 0.5281 - val_loss: 0.6226\n",
            "Epoch 12/50\n",
            "8000/8000 [==============================] - 7s 881us/step - loss: 0.5122 - val_loss: 0.6119\n",
            "Epoch 13/50\n",
            "8000/8000 [==============================] - 7s 877us/step - loss: 0.4975 - val_loss: 0.5888\n",
            "Epoch 14/50\n",
            "8000/8000 [==============================] - 7s 880us/step - loss: 0.4845 - val_loss: 0.5762\n",
            "Epoch 15/50\n",
            "8000/8000 [==============================] - 7s 876us/step - loss: 0.4716 - val_loss: 0.5694\n",
            "Epoch 16/50\n",
            "8000/8000 [==============================] - 7s 881us/step - loss: 0.4606 - val_loss: 0.5612\n",
            "Epoch 17/50\n",
            "8000/8000 [==============================] - 7s 878us/step - loss: 0.4483 - val_loss: 0.5476\n",
            "Epoch 18/50\n",
            "8000/8000 [==============================] - 7s 875us/step - loss: 0.4392 - val_loss: 0.5345\n",
            "Epoch 19/50\n",
            "8000/8000 [==============================] - 7s 876us/step - loss: 0.4286 - val_loss: 0.5415\n",
            "Epoch 20/50\n",
            "8000/8000 [==============================] - 7s 881us/step - loss: 0.4200 - val_loss: 0.5333\n",
            "Epoch 21/50\n",
            "8000/8000 [==============================] - 7s 879us/step - loss: 0.4101 - val_loss: 0.5185\n",
            "Epoch 22/50\n",
            "8000/8000 [==============================] - 7s 877us/step - loss: 0.4033 - val_loss: 0.5203\n",
            "Epoch 23/50\n",
            "8000/8000 [==============================] - 7s 883us/step - loss: 0.3947 - val_loss: 0.5066\n",
            "Epoch 24/50\n",
            "8000/8000 [==============================] - 7s 882us/step - loss: 0.3875 - val_loss: 0.5027\n",
            "Epoch 25/50\n",
            "8000/8000 [==============================] - 7s 872us/step - loss: 0.3799 - val_loss: 0.5000\n",
            "Epoch 26/50\n",
            "8000/8000 [==============================] - 7s 878us/step - loss: 0.3719 - val_loss: 0.4975\n",
            "Epoch 27/50\n",
            "8000/8000 [==============================] - 7s 884us/step - loss: 0.3655 - val_loss: 0.4849\n",
            "Epoch 28/50\n",
            "8000/8000 [==============================] - 7s 883us/step - loss: 0.3586 - val_loss: 0.4883\n",
            "Epoch 29/50\n",
            "8000/8000 [==============================] - 7s 888us/step - loss: 0.3519 - val_loss: 0.4809\n",
            "Epoch 30/50\n",
            "8000/8000 [==============================] - 7s 889us/step - loss: 0.3452 - val_loss: 0.4805\n",
            "Epoch 31/50\n",
            "8000/8000 [==============================] - 7s 881us/step - loss: 0.3389 - val_loss: 0.4745\n",
            "Epoch 32/50\n",
            "8000/8000 [==============================] - 7s 877us/step - loss: 0.3327 - val_loss: 0.4790\n",
            "Epoch 33/50\n",
            "8000/8000 [==============================] - 7s 882us/step - loss: 0.3267 - val_loss: 0.4692\n",
            "Epoch 34/50\n",
            "8000/8000 [==============================] - 7s 871us/step - loss: 0.3207 - val_loss: 0.4704\n",
            "Epoch 35/50\n",
            "8000/8000 [==============================] - 7s 871us/step - loss: 0.3151 - val_loss: 0.4751\n",
            "Epoch 36/50\n",
            "8000/8000 [==============================] - 7s 875us/step - loss: 0.3091 - val_loss: 0.4653\n",
            "Epoch 37/50\n",
            "8000/8000 [==============================] - 7s 882us/step - loss: 0.3038 - val_loss: 0.4707\n",
            "Epoch 38/50\n",
            "8000/8000 [==============================] - 7s 880us/step - loss: 0.2985 - val_loss: 0.4670\n",
            "Epoch 39/50\n",
            "8000/8000 [==============================] - 7s 879us/step - loss: 0.2933 - val_loss: 0.4653\n",
            "Epoch 40/50\n",
            "8000/8000 [==============================] - 7s 871us/step - loss: 0.2878 - val_loss: 0.4691\n",
            "Epoch 41/50\n",
            "8000/8000 [==============================] - 7s 879us/step - loss: 0.2833 - val_loss: 0.4653\n",
            "Epoch 42/50\n",
            "8000/8000 [==============================] - 7s 879us/step - loss: 0.2773 - val_loss: 0.4662\n",
            "Epoch 43/50\n",
            "8000/8000 [==============================] - 7s 878us/step - loss: 0.2740 - val_loss: 0.4669\n",
            "Epoch 44/50\n",
            "8000/8000 [==============================] - 7s 879us/step - loss: 0.2680 - val_loss: 0.4715\n",
            "Epoch 45/50\n",
            "8000/8000 [==============================] - 7s 885us/step - loss: 0.2640 - val_loss: 0.4669\n",
            "Epoch 46/50\n",
            "8000/8000 [==============================] - 7s 881us/step - loss: 0.2593 - val_loss: 0.4684\n",
            "Epoch 47/50\n",
            "8000/8000 [==============================] - 7s 888us/step - loss: 0.2548 - val_loss: 0.4651\n",
            "Epoch 48/50\n",
            "8000/8000 [==============================] - 7s 883us/step - loss: 0.2507 - val_loss: 0.4731\n",
            "Epoch 49/50\n",
            "8000/8000 [==============================] - 7s 883us/step - loss: 0.2462 - val_loss: 0.4674\n",
            "Epoch 50/50\n",
            "8000/8000 [==============================] - 7s 880us/step - loss: 0.2422 - val_loss: 0.4699\n"
          ],
          "name": "stdout"
        },
        {
          "output_type": "execute_result",
          "data": {
            "text/plain": [
              "<keras.callbacks.History at 0x7f1ad677d9b0>"
            ]
          },
          "metadata": {
            "tags": []
          },
          "execution_count": 27
        }
      ]
    },
    {
      "metadata": {
        "id": "mtgxeHYvYqD8",
        "colab_type": "code",
        "outputId": "e3131ca3-1031-4e10-efb1-d39b5f431316",
        "colab": {
          "base_uri": "https://localhost:8080/",
          "height": 71
        }
      },
      "cell_type": "code",
      "source": [
        "# Save model\n",
        "model.save('s2s.h5')"
      ],
      "execution_count": 28,
      "outputs": [
        {
          "output_type": "stream",
          "text": [
            "/usr/local/lib/python3.6/dist-packages/keras/engine/network.py:877: UserWarning: Layer lstm_2 was passed non-serializable keyword arguments: {'initial_state': [<tf.Tensor 'lstm_1/while/Exit_2:0' shape=(?, 256) dtype=float32>, <tf.Tensor 'lstm_1/while/Exit_3:0' shape=(?, 256) dtype=float32>]}. They will not be included in the serialized model (and thus will be missing at deserialization time).\n",
            "  '. They will not be included '\n"
          ],
          "name": "stderr"
        }
      ]
    },
    {
      "metadata": {
        "id": "lmG7KO1KZKPJ",
        "colab_type": "text"
      },
      "cell_type": "markdown",
      "source": [
        "# Next: inference mode (sampling).\n",
        "\n",
        "####  1) encode input and retrieve initial decoder state\n",
        "####  2) run one step of decoder with this initial state and a \"start of sequence\" token as target.\n",
        "####  3)Output will be the next target token\n",
        "####  4) Repeat with the current target token and current states"
      ]
    },
    {
      "metadata": {
        "id": "lxsmpw0QZUB9",
        "colab_type": "code",
        "colab": {}
      },
      "cell_type": "code",
      "source": [
        "# Define sampling models\n",
        "encoder_model = Model(encoder_inputs, encoder_states)"
      ],
      "execution_count": 0,
      "outputs": []
    },
    {
      "metadata": {
        "id": "BqoGF92xZEGi",
        "colab_type": "code",
        "colab": {}
      },
      "cell_type": "code",
      "source": [
        "# Define Decoder Model\n",
        "decoder_state_input_h = Input(shape=(latent_dim,))\n",
        "decoder_state_input_c = Input(shape=(latent_dim,))\n",
        "decoder_states_inputs = [decoder_state_input_h, decoder_state_input_c]\n",
        "#\n",
        "decoder_outputs, state_h, state_c = decoder_lstm(decoder_inputs, initial_state=decoder_states_inputs)\n",
        "decoder_states = [state_h, state_c]\n",
        "decoder_outputs = decoder_dense(decoder_outputs)\n",
        "#\n",
        "decoder_model = Model([decoder_inputs] + decoder_states_inputs,[decoder_outputs] + decoder_states)\n"
      ],
      "execution_count": 0,
      "outputs": []
    },
    {
      "metadata": {
        "id": "cW7NcEmwasQ9",
        "colab_type": "code",
        "colab": {}
      },
      "cell_type": "code",
      "source": [
        "# Reverse-lookup token index to decode sequences back to something readable.\n",
        "reverse_input_char_index = dict((i, char) for char, i in input_token_index.items())\n",
        "reverse_target_char_index = dict((i, char) for char, i in target_token_index.items())"
      ],
      "execution_count": 0,
      "outputs": []
    },
    {
      "metadata": {
        "id": "nnMVFekka1V7",
        "colab_type": "code",
        "outputId": "6a010391-de96-4078-cab2-1149eac1c158",
        "colab": {
          "base_uri": "https://localhost:8080/",
          "height": 1190
        }
      },
      "cell_type": "code",
      "source": [
        "reverse_input_char_index"
      ],
      "execution_count": 34,
      "outputs": [
        {
          "output_type": "execute_result",
          "data": {
            "text/plain": [
              "{0: ' ',\n",
              " 1: '!',\n",
              " 2: '$',\n",
              " 3: '%',\n",
              " 4: '&',\n",
              " 5: \"'\",\n",
              " 6: ',',\n",
              " 7: '-',\n",
              " 8: '.',\n",
              " 9: '0',\n",
              " 10: '1',\n",
              " 11: '3',\n",
              " 12: '5',\n",
              " 13: '6',\n",
              " 14: '7',\n",
              " 15: '8',\n",
              " 16: '9',\n",
              " 17: ':',\n",
              " 18: '?',\n",
              " 19: 'A',\n",
              " 20: 'B',\n",
              " 21: 'C',\n",
              " 22: 'D',\n",
              " 23: 'E',\n",
              " 24: 'F',\n",
              " 25: 'G',\n",
              " 26: 'H',\n",
              " 27: 'I',\n",
              " 28: 'J',\n",
              " 29: 'K',\n",
              " 30: 'L',\n",
              " 31: 'M',\n",
              " 32: 'N',\n",
              " 33: 'O',\n",
              " 34: 'P',\n",
              " 35: 'Q',\n",
              " 36: 'R',\n",
              " 37: 'S',\n",
              " 38: 'T',\n",
              " 39: 'U',\n",
              " 40: 'V',\n",
              " 41: 'W',\n",
              " 42: 'Y',\n",
              " 43: 'a',\n",
              " 44: 'b',\n",
              " 45: 'c',\n",
              " 46: 'd',\n",
              " 47: 'e',\n",
              " 48: 'f',\n",
              " 49: 'g',\n",
              " 50: 'h',\n",
              " 51: 'i',\n",
              " 52: 'j',\n",
              " 53: 'k',\n",
              " 54: 'l',\n",
              " 55: 'm',\n",
              " 56: 'n',\n",
              " 57: 'o',\n",
              " 58: 'p',\n",
              " 59: 'q',\n",
              " 60: 'r',\n",
              " 61: 's',\n",
              " 62: 't',\n",
              " 63: 'u',\n",
              " 64: 'v',\n",
              " 65: 'w',\n",
              " 66: 'x',\n",
              " 67: 'y',\n",
              " 68: 'z'}"
            ]
          },
          "metadata": {
            "tags": []
          },
          "execution_count": 34
        }
      ]
    },
    {
      "metadata": {
        "id": "7UpVSK8-a9UD",
        "colab_type": "code",
        "outputId": "8c5f9a28-4e29-4de8-d78e-867fb6940313",
        "colab": {
          "base_uri": "https://localhost:8080/",
          "height": 1598
        }
      },
      "cell_type": "code",
      "source": [
        "reverse_target_char_index"
      ],
      "execution_count": 35,
      "outputs": [
        {
          "output_type": "execute_result",
          "data": {
            "text/plain": [
              "{0: '\\t',\n",
              " 1: '\\n',\n",
              " 2: ' ',\n",
              " 3: '!',\n",
              " 4: '$',\n",
              " 5: '%',\n",
              " 6: '&',\n",
              " 7: \"'\",\n",
              " 8: '(',\n",
              " 9: ')',\n",
              " 10: ',',\n",
              " 11: '-',\n",
              " 12: '.',\n",
              " 13: '0',\n",
              " 14: '1',\n",
              " 15: '3',\n",
              " 16: '5',\n",
              " 17: '8',\n",
              " 18: '9',\n",
              " 19: ':',\n",
              " 20: '?',\n",
              " 21: 'A',\n",
              " 22: 'B',\n",
              " 23: 'C',\n",
              " 24: 'D',\n",
              " 25: 'E',\n",
              " 26: 'F',\n",
              " 27: 'G',\n",
              " 28: 'H',\n",
              " 29: 'I',\n",
              " 30: 'J',\n",
              " 31: 'K',\n",
              " 32: 'L',\n",
              " 33: 'M',\n",
              " 34: 'N',\n",
              " 35: 'O',\n",
              " 36: 'P',\n",
              " 37: 'Q',\n",
              " 38: 'R',\n",
              " 39: 'S',\n",
              " 40: 'T',\n",
              " 41: 'U',\n",
              " 42: 'V',\n",
              " 43: 'Y',\n",
              " 44: 'a',\n",
              " 45: 'b',\n",
              " 46: 'c',\n",
              " 47: 'd',\n",
              " 48: 'e',\n",
              " 49: 'f',\n",
              " 50: 'g',\n",
              " 51: 'h',\n",
              " 52: 'i',\n",
              " 53: 'j',\n",
              " 54: 'k',\n",
              " 55: 'l',\n",
              " 56: 'm',\n",
              " 57: 'n',\n",
              " 58: 'o',\n",
              " 59: 'p',\n",
              " 60: 'q',\n",
              " 61: 'r',\n",
              " 62: 's',\n",
              " 63: 't',\n",
              " 64: 'u',\n",
              " 65: 'v',\n",
              " 66: 'w',\n",
              " 67: 'x',\n",
              " 68: 'y',\n",
              " 69: 'z',\n",
              " 70: '\\xa0',\n",
              " 71: '«',\n",
              " 72: '»',\n",
              " 73: 'À',\n",
              " 74: 'Ç',\n",
              " 75: 'É',\n",
              " 76: 'Ê',\n",
              " 77: 'à',\n",
              " 78: 'â',\n",
              " 79: 'ç',\n",
              " 80: 'è',\n",
              " 81: 'é',\n",
              " 82: 'ê',\n",
              " 83: 'ë',\n",
              " 84: 'î',\n",
              " 85: 'ï',\n",
              " 86: 'ô',\n",
              " 87: 'ù',\n",
              " 88: 'û',\n",
              " 89: 'œ',\n",
              " 90: '\\u2009',\n",
              " 91: '’',\n",
              " 92: '\\u202f'}"
            ]
          },
          "metadata": {
            "tags": []
          },
          "execution_count": 35
        }
      ]
    },
    {
      "metadata": {
        "id": "jeXfhnQzbMQk",
        "colab_type": "code",
        "colab": {}
      },
      "cell_type": "code",
      "source": [
        "def decode_sequence(input_seq):\n",
        "    # Encode the input as state vectors.\n",
        "    states_value = encoder_model.predict(input_seq)\n",
        "\n",
        "    # Generate empty target sequence of length 1.\n",
        "    target_seq = np.zeros((1, 1, num_decoder_tokens))\n",
        "    # Populate the first character of target sequence with the start character.\n",
        "    target_seq[0, 0, target_token_index['\\t']] = 1.\n",
        "\n",
        "    # Sampling loop for a batch of sequences\n",
        "    # (to simplify, here we assume a batch of size 1).\n",
        "    stop_condition = False\n",
        "    decoded_sentence = ''\n",
        "    while not stop_condition:\n",
        "        output_tokens, h, c = decoder_model.predict([target_seq] + states_value)\n",
        "\n",
        "        # Sample a token\n",
        "        sampled_token_index = np.argmax(output_tokens[0, -1, :])\n",
        "        #print('---------------------------------------------------')\n",
        "        #print(sampled_token_index)\n",
        "        sampled_char = reverse_target_char_index[sampled_token_index]\n",
        "        decoded_sentence += sampled_char\n",
        "        #print('---------------------------------------------------')\n",
        "        #print(sampled_char)\n",
        "        #print('---------------------------------------------------')\n",
        "        # Exit condition: either hit max length\n",
        "        # or find stop character.\n",
        "        if (sampled_char == '\\n' or\n",
        "           len(decoded_sentence) > max_decoder_seq_length):\n",
        "            stop_condition = True\n",
        "\n",
        "        # Update the target sequence (of length 1).\n",
        "        target_seq = np.zeros((1, 1, num_decoder_tokens))\n",
        "        target_seq[0, 0, sampled_token_index] = 1.\n",
        "\n",
        "        # Update states\n",
        "        states_value = [h, c]\n",
        "\n",
        "    return decoded_sentence"
      ],
      "execution_count": 0,
      "outputs": []
    },
    {
      "metadata": {
        "id": "eFT5UwbAekR7",
        "colab_type": "code",
        "outputId": "2e4542a4-fdaa-4628-9049-5d9d834d09be",
        "colab": {
          "base_uri": "https://localhost:8080/",
          "height": 6817
        }
      },
      "cell_type": "code",
      "source": [
        "for seq_index in range(100):\n",
        "    # Take one sequence (part of the training set)\n",
        "    # for trying out decoding.\n",
        "    input_seq = encoder_input_data[seq_index: seq_index + 1]\n",
        "    #print('---------------------------------------------------------')\n",
        "    #print('input sequence : ',input_seq)\n",
        "    #print('---------------------------------------------------------')\n",
        "    decoded_sentence = decode_sequence(input_seq)\n",
        "    print('-')\n",
        "    print('Input sentence:', input_texts[seq_index])\n",
        "    print('Decoded sentence:', decoded_sentence)"
      ],
      "execution_count": 37,
      "outputs": [
        {
          "output_type": "stream",
          "text": [
            "-\n",
            "Input sentence: Go.\n",
            "Decoded sentence: Pars port moi ve faffer !\n",
            "\n",
            "-\n",
            "Input sentence: Hi.\n",
            "Decoded sentence: Parse de tu la diret.\n",
            "\n",
            "-\n",
            "Input sentence: Run!\n",
            "Decoded sentence: Relasse-toi !\n",
            "\n",
            "-\n",
            "Input sentence: Run!\n",
            "Decoded sentence: Relasse-toi !\n",
            "\n",
            "-\n",
            "Input sentence: Wow!\n",
            "Decoded sentence: Laisse tomber !\n",
            "\n",
            "-\n",
            "Input sentence: Fire!\n",
            "Decoded sentence: Reste tranquille !\n",
            "\n",
            "-\n",
            "Input sentence: Help!\n",
            "Decoded sentence: Prends le mien.\n",
            "\n",
            "-\n",
            "Input sentence: Jump.\n",
            "Decoded sentence: Parse de tu le moinde.\n",
            "\n",
            "-\n",
            "Input sentence: Stop!\n",
            "Decoded sentence: Arrêtez de vous prienter !\n",
            "\n",
            "-\n",
            "Input sentence: Stop!\n",
            "Decoded sentence: Arrêtez de vous prienter !\n",
            "\n",
            "-\n",
            "Input sentence: Stop!\n",
            "Decoded sentence: Arrêtez de vous prienter !\n",
            "\n",
            "-\n",
            "Input sentence: Wait!\n",
            "Decoded sentence: Attends jusqu'à dix huiter !\n",
            "\n",
            "-\n",
            "Input sentence: Wait!\n",
            "Decoded sentence: Attends jusqu'à dix huiter !\n",
            "\n",
            "-\n",
            "Input sentence: Go on.\n",
            "Decoded sentence: Va au lit !\n",
            "\n",
            "-\n",
            "Input sentence: Go on.\n",
            "Decoded sentence: Va au lit !\n",
            "\n",
            "-\n",
            "Input sentence: Go on.\n",
            "Decoded sentence: Va au lit !\n",
            "\n",
            "-\n",
            "Input sentence: Hello!\n",
            "Decoded sentence: Parlez-vous d'aller !\n",
            "\n",
            "-\n",
            "Input sentence: Hello!\n",
            "Decoded sentence: Parlez-vous d'aller !\n",
            "\n",
            "-\n",
            "Input sentence: I see.\n",
            "Decoded sentence: Je me suis sentie tropper.\n",
            "\n",
            "-\n",
            "Input sentence: I try.\n",
            "Decoded sentence: Je l'ai vu une pride.\n",
            "\n",
            "-\n",
            "Input sentence: I won!\n",
            "Decoded sentence: Je vous ai suivie.\n",
            "\n",
            "-\n",
            "Input sentence: I won!\n",
            "Decoded sentence: Je vous ai suivie.\n",
            "\n",
            "-\n",
            "Input sentence: Oh no!\n",
            "Decoded sentence: Comment va seulement vous prêtes ?\n",
            "\n",
            "-\n",
            "Input sentence: Attack!\n",
            "Decoded sentence: Regardez de près !\n",
            "\n",
            "-\n",
            "Input sentence: Attack!\n",
            "Decoded sentence: Regardez de près !\n",
            "\n",
            "-\n",
            "Input sentence: Cheers!\n",
            "Decoded sentence: La vie est dureux.\n",
            "\n",
            "-\n",
            "Input sentence: Cheers!\n",
            "Decoded sentence: La vie est dureux.\n",
            "\n",
            "-\n",
            "Input sentence: Cheers!\n",
            "Decoded sentence: La vie est dureux.\n",
            "\n",
            "-\n",
            "Input sentence: Cheers!\n",
            "Decoded sentence: La vie est dureux.\n",
            "\n",
            "-\n",
            "Input sentence: Get up.\n",
            "Decoded sentence: Continuez d'en aller !\n",
            "\n",
            "-\n",
            "Input sentence: Go now.\n",
            "Decoded sentence: Va au lit !\n",
            "\n",
            "-\n",
            "Input sentence: Go now.\n",
            "Decoded sentence: Va au lit !\n",
            "\n",
            "-\n",
            "Input sentence: Go now.\n",
            "Decoded sentence: Va au lit !\n",
            "\n",
            "-\n",
            "Input sentence: Got it!\n",
            "Decoded sentence: Allez à l'école !\n",
            "\n",
            "-\n",
            "Input sentence: Got it!\n",
            "Decoded sentence: Allez à l'école !\n",
            "\n",
            "-\n",
            "Input sentence: Got it?\n",
            "Decoded sentence: Allez vous ervoie !\n",
            "\n",
            "-\n",
            "Input sentence: Got it?\n",
            "Decoded sentence: Allez vous ervoie !\n",
            "\n",
            "-\n",
            "Input sentence: Got it?\n",
            "Decoded sentence: Allez vous ervoie !\n",
            "\n",
            "-\n",
            "Input sentence: Hop in.\n",
            "Decoded sentence: Soyez prête !\n",
            "\n",
            "-\n",
            "Input sentence: Hop in.\n",
            "Decoded sentence: Soyez prête !\n",
            "\n",
            "-\n",
            "Input sentence: Hug me.\n",
            "Decoded sentence: Tiens le chanter.\n",
            "\n",
            "-\n",
            "Input sentence: Hug me.\n",
            "Decoded sentence: Tiens le chanter.\n",
            "\n",
            "-\n",
            "Input sentence: I fell.\n",
            "Decoded sentence: Je me sens seul.\n",
            "\n",
            "-\n",
            "Input sentence: I fell.\n",
            "Decoded sentence: Je me sens seul.\n",
            "\n",
            "-\n",
            "Input sentence: I know.\n",
            "Decoded sentence: Je me suis sentie tropper.\n",
            "\n",
            "-\n",
            "Input sentence: I left.\n",
            "Decoded sentence: J'aime le manque.\n",
            "\n",
            "-\n",
            "Input sentence: I left.\n",
            "Decoded sentence: J'aime le manque.\n",
            "\n",
            "-\n",
            "Input sentence: I lost.\n",
            "Decoded sentence: J'ai été prépare.\n",
            "\n",
            "-\n",
            "Input sentence: I'm 19.\n",
            "Decoded sentence: Je suis du semme.\n",
            "\n",
            "-\n",
            "Input sentence: I'm OK.\n",
            "Decoded sentence: Je suis en train de manger.\n",
            "\n",
            "-\n",
            "Input sentence: I'm OK.\n",
            "Decoded sentence: Je suis en train de manger.\n",
            "\n",
            "-\n",
            "Input sentence: Listen.\n",
            "Decoded sentence: Apportez du vie.\n",
            "\n",
            "-\n",
            "Input sentence: No way!\n",
            "Decoded sentence: Personne ne s'en souche.\n",
            "\n",
            "-\n",
            "Input sentence: No way!\n",
            "Decoded sentence: Personne ne s'en souche.\n",
            "\n",
            "-\n",
            "Input sentence: No way!\n",
            "Decoded sentence: Personne ne s'en souche.\n",
            "\n",
            "-\n",
            "Input sentence: No way!\n",
            "Decoded sentence: Personne ne s'en souche.\n",
            "\n",
            "-\n",
            "Input sentence: No way!\n",
            "Decoded sentence: Personne ne s'en souche.\n",
            "\n",
            "-\n",
            "Input sentence: No way!\n",
            "Decoded sentence: Personne ne s'en souche.\n",
            "\n",
            "-\n",
            "Input sentence: No way!\n",
            "Decoded sentence: Personne ne s'en souche.\n",
            "\n",
            "-\n",
            "Input sentence: No way!\n",
            "Decoded sentence: Personne ne s'en souche.\n",
            "\n",
            "-\n",
            "Input sentence: No way!\n",
            "Decoded sentence: Personne ne s'en souche.\n",
            "\n",
            "-\n",
            "Input sentence: Really?\n",
            "Decoded sentence: Des-vous sempes ?\n",
            "\n",
            "-\n",
            "Input sentence: Really?\n",
            "Decoded sentence: Des-vous sempes ?\n",
            "\n",
            "-\n",
            "Input sentence: Really?\n",
            "Decoded sentence: Des-vous sempes ?\n",
            "\n",
            "-\n",
            "Input sentence: Thanks.\n",
            "Decoded sentence: Cela a curté un joure de pous maintenant.\n",
            "\n",
            "-\n",
            "Input sentence: We try.\n",
            "Decoded sentence: Nous avons des prêtes.\n",
            "\n",
            "-\n",
            "Input sentence: We won.\n",
            "Decoded sentence: Nous avons été déseux.\n",
            "\n",
            "-\n",
            "Input sentence: We won.\n",
            "Decoded sentence: Nous avons été déseux.\n",
            "\n",
            "-\n",
            "Input sentence: We won.\n",
            "Decoded sentence: Nous avons été déseux.\n",
            "\n",
            "-\n",
            "Input sentence: We won.\n",
            "Decoded sentence: Nous avons été déseux.\n",
            "\n",
            "-\n",
            "Input sentence: Ask Tom.\n",
            "Decoded sentence: Demandez-vous à vous de soufier.\n",
            "\n",
            "-\n",
            "Input sentence: Awesome!\n",
            "Decoded sentence: Demandez-vous à vous de sout !\n",
            "\n",
            "-\n",
            "Input sentence: Be calm.\n",
            "Decoded sentence: Soyez prudente !\n",
            "\n",
            "-\n",
            "Input sentence: Be calm.\n",
            "Decoded sentence: Soyez prudente !\n",
            "\n",
            "-\n",
            "Input sentence: Be calm.\n",
            "Decoded sentence: Soyez prudente !\n",
            "\n",
            "-\n",
            "Input sentence: Be cool.\n",
            "Decoded sentence: Soyez créchit !\n",
            "\n",
            "-\n",
            "Input sentence: Be fair.\n",
            "Decoded sentence: Soyez un chic falle !\n",
            "\n",
            "-\n",
            "Input sentence: Be fair.\n",
            "Decoded sentence: Soyez un chic falle !\n",
            "\n",
            "-\n",
            "Input sentence: Be fair.\n",
            "Decoded sentence: Soyez un chic falle !\n",
            "\n",
            "-\n",
            "Input sentence: Be fair.\n",
            "Decoded sentence: Soyez un chic falle !\n",
            "\n",
            "-\n",
            "Input sentence: Be fair.\n",
            "Decoded sentence: Soyez un chic falle !\n",
            "\n",
            "-\n",
            "Input sentence: Be fair.\n",
            "Decoded sentence: Soyez un chic falle !\n",
            "\n",
            "-\n",
            "Input sentence: Be kind.\n",
            "Decoded sentence: Soyez prête !\n",
            "\n",
            "-\n",
            "Input sentence: Be nice.\n",
            "Decoded sentence: Soyez clémente !\n",
            "\n",
            "-\n",
            "Input sentence: Be nice.\n",
            "Decoded sentence: Soyez clémente !\n",
            "\n",
            "-\n",
            "Input sentence: Be nice.\n",
            "Decoded sentence: Soyez clémente !\n",
            "\n",
            "-\n",
            "Input sentence: Be nice.\n",
            "Decoded sentence: Soyez clémente !\n",
            "\n",
            "-\n",
            "Input sentence: Be nice.\n",
            "Decoded sentence: Soyez clémente !\n",
            "\n",
            "-\n",
            "Input sentence: Be nice.\n",
            "Decoded sentence: Soyez clémente !\n",
            "\n",
            "-\n",
            "Input sentence: Beat it.\n",
            "Decoded sentence: Mange une bousonte.\n",
            "\n",
            "-\n",
            "Input sentence: Call me.\n",
            "Decoded sentence: Appelez un plait !\n",
            "\n",
            "-\n",
            "Input sentence: Call me.\n",
            "Decoded sentence: Appelez un plait !\n",
            "\n",
            "-\n",
            "Input sentence: Call us.\n",
            "Decoded sentence: Appelez un plemire.\n",
            "\n",
            "-\n",
            "Input sentence: Call us.\n",
            "Decoded sentence: Appelez un plemire.\n",
            "\n",
            "-\n",
            "Input sentence: Come in.\n",
            "Decoded sentence: Venez à l'estérieur.\n",
            "\n",
            "-\n",
            "Input sentence: Come in.\n",
            "Decoded sentence: Venez à l'estérieur.\n",
            "\n",
            "-\n",
            "Input sentence: Come in.\n",
            "Decoded sentence: Venez à l'estérieur.\n",
            "\n",
            "-\n",
            "Input sentence: Come in.\n",
            "Decoded sentence: Venez à l'estérieur.\n",
            "\n",
            "-\n",
            "Input sentence: Come on!\n",
            "Decoded sentence: Venez vite !\n",
            "\n",
            "-\n",
            "Input sentence: Come on.\n",
            "Decoded sentence: Venez vite !\n",
            "\n"
          ],
          "name": "stdout"
        }
      ]
    },
    {
      "metadata": {
        "id": "XwbXFSUzjF74",
        "colab_type": "code",
        "colab": {}
      },
      "cell_type": "code",
      "source": [
        ""
      ],
      "execution_count": 0,
      "outputs": []
    }
  ]
}